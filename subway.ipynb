{
 "cells": [
  {
   "cell_type": "code",
   "execution_count": 1,
   "metadata": {},
   "outputs": [],
   "source": [
    "import os"
   ]
  },
  {
   "cell_type": "code",
   "execution_count": 2,
   "metadata": {},
   "outputs": [],
   "source": [
    "import pandas as pd"
   ]
  },
  {
   "cell_type": "code",
   "execution_count": 3,
   "metadata": {},
   "outputs": [
    {
     "data": {
      "text/plain": [
       "'C:\\\\Users\\\\user\\\\Documents\\\\nano-python\\\\data\\\\nano online course\\\\PJT2)Subway_Analysis'"
      ]
     },
     "execution_count": 3,
     "metadata": {},
     "output_type": "execute_result"
    }
   ],
   "source": [
    "os.getcwd()"
   ]
  },
  {
   "cell_type": "code",
   "execution_count": 4,
   "metadata": {},
   "outputs": [
    {
     "data": {
      "text/plain": [
       "['.ipynb_checkpoints',\n",
       " '1. Subway_Raw_Merge.ipynb',\n",
       " '2. EDA_by_DATE.ipynb',\n",
       " '3. EDA_by_PLACE.ipynb',\n",
       " 'data',\n",
       " 'rawfiles',\n",
       " 'subway.ipynb',\n",
       " 'subway_filemerge.ipynb',\n",
       " 'Untitled.ipynb',\n",
       " 'Untitled1.ipynb']"
      ]
     },
     "execution_count": 4,
     "metadata": {},
     "output_type": "execute_result"
    }
   ],
   "source": [
    "os.listdir()"
   ]
  },
  {
   "cell_type": "code",
   "execution_count": 5,
   "metadata": {},
   "outputs": [
    {
     "data": {
      "text/plain": [
       "'rawfiles/CARD_SUBWAY_MONTH_201901.csv'"
      ]
     },
     "execution_count": 5,
     "metadata": {},
     "output_type": "execute_result"
    }
   ],
   "source": [
    "file = 'rawfiles/CARD_SUBWAY_MONTH_201901.csv'\n",
    "file"
   ]
  },
  {
   "cell_type": "code",
   "execution_count": 6,
   "metadata": {},
   "outputs": [
    {
     "data": {
      "text/html": [
       "<div>\n",
       "<style scoped>\n",
       "    .dataframe tbody tr th:only-of-type {\n",
       "        vertical-align: middle;\n",
       "    }\n",
       "\n",
       "    .dataframe tbody tr th {\n",
       "        vertical-align: top;\n",
       "    }\n",
       "\n",
       "    .dataframe thead th {\n",
       "        text-align: right;\n",
       "    }\n",
       "</style>\n",
       "<table border=\"1\" class=\"dataframe\">\n",
       "  <thead>\n",
       "    <tr style=\"text-align: right;\">\n",
       "      <th></th>\n",
       "      <th>사용일자</th>\n",
       "      <th>노선명</th>\n",
       "      <th>역ID</th>\n",
       "      <th>역명</th>\n",
       "      <th>승차총승객수</th>\n",
       "      <th>하차총승객수</th>\n",
       "      <th>등록일자</th>\n",
       "    </tr>\n",
       "  </thead>\n",
       "  <tbody>\n",
       "    <tr>\n",
       "      <th>0</th>\n",
       "      <td>20190101</td>\n",
       "      <td>경춘선</td>\n",
       "      <td>1323</td>\n",
       "      <td>가평</td>\n",
       "      <td>1520</td>\n",
       "      <td>1436</td>\n",
       "      <td>20190104</td>\n",
       "    </tr>\n",
       "    <tr>\n",
       "      <th>1</th>\n",
       "      <td>20190101</td>\n",
       "      <td>경춘선</td>\n",
       "      <td>1322</td>\n",
       "      <td>상천</td>\n",
       "      <td>275</td>\n",
       "      <td>114</td>\n",
       "      <td>20190104</td>\n",
       "    </tr>\n",
       "    <tr>\n",
       "      <th>2</th>\n",
       "      <td>20190101</td>\n",
       "      <td>경춘선</td>\n",
       "      <td>1321</td>\n",
       "      <td>청평</td>\n",
       "      <td>1509</td>\n",
       "      <td>1083</td>\n",
       "      <td>20190104</td>\n",
       "    </tr>\n",
       "    <tr>\n",
       "      <th>3</th>\n",
       "      <td>20190101</td>\n",
       "      <td>경춘선</td>\n",
       "      <td>1320</td>\n",
       "      <td>대성리</td>\n",
       "      <td>357</td>\n",
       "      <td>271</td>\n",
       "      <td>20190104</td>\n",
       "    </tr>\n",
       "    <tr>\n",
       "      <th>4</th>\n",
       "      <td>20190101</td>\n",
       "      <td>경춘선</td>\n",
       "      <td>1319</td>\n",
       "      <td>마석</td>\n",
       "      <td>1772</td>\n",
       "      <td>1963</td>\n",
       "      <td>20190104</td>\n",
       "    </tr>\n",
       "  </tbody>\n",
       "</table>\n",
       "</div>"
      ],
      "text/plain": [
       "       사용일자  노선명   역ID   역명  승차총승객수  하차총승객수      등록일자\n",
       "0  20190101  경춘선  1323   가평    1520    1436  20190104\n",
       "1  20190101  경춘선  1322   상천     275     114  20190104\n",
       "2  20190101  경춘선  1321   청평    1509    1083  20190104\n",
       "3  20190101  경춘선  1320  대성리     357     271  20190104\n",
       "4  20190101  경춘선  1319   마석    1772    1963  20190104"
      ]
     },
     "execution_count": 6,
     "metadata": {},
     "output_type": "execute_result"
    }
   ],
   "source": [
    "raw = pd.read_csv(file)\n",
    "raw.head()"
   ]
  },
  {
   "cell_type": "code",
   "execution_count": 7,
   "metadata": {},
   "outputs": [
    {
     "name": "stdout",
     "output_type": "stream",
     "text": [
      "<class 'pandas.core.frame.DataFrame'>\n",
      "RangeIndex: 18334 entries, 0 to 18333\n",
      "Data columns (total 7 columns):\n",
      " #   Column  Non-Null Count  Dtype \n",
      "---  ------  --------------  ----- \n",
      " 0   사용일자    18334 non-null  int64 \n",
      " 1   노선명     18334 non-null  object\n",
      " 2   역ID     18334 non-null  int64 \n",
      " 3   역명      18334 non-null  object\n",
      " 4   승차총승객수  18334 non-null  int64 \n",
      " 5   하차총승객수  18334 non-null  int64 \n",
      " 6   등록일자    18334 non-null  int64 \n",
      "dtypes: int64(5), object(2)\n",
      "memory usage: 1002.8+ KB\n"
     ]
    }
   ],
   "source": [
    "raw.info()"
   ]
  },
  {
   "cell_type": "code",
   "execution_count": 8,
   "metadata": {},
   "outputs": [
    {
     "data": {
      "text/plain": [
       "(18334, 7)"
      ]
     },
     "execution_count": 8,
     "metadata": {},
     "output_type": "execute_result"
    }
   ],
   "source": [
    "raw.shape"
   ]
  },
  {
   "cell_type": "code",
   "execution_count": 9,
   "metadata": {},
   "outputs": [
    {
     "data": {
      "text/html": [
       "<div>\n",
       "<style scoped>\n",
       "    .dataframe tbody tr th:only-of-type {\n",
       "        vertical-align: middle;\n",
       "    }\n",
       "\n",
       "    .dataframe tbody tr th {\n",
       "        vertical-align: top;\n",
       "    }\n",
       "\n",
       "    .dataframe thead th {\n",
       "        text-align: right;\n",
       "    }\n",
       "</style>\n",
       "<table border=\"1\" class=\"dataframe\">\n",
       "  <thead>\n",
       "    <tr style=\"text-align: right;\">\n",
       "      <th></th>\n",
       "      <th>사용일자</th>\n",
       "      <th>노선명</th>\n",
       "      <th>역ID</th>\n",
       "      <th>역명</th>\n",
       "      <th>승차총승객수</th>\n",
       "      <th>하차총승객수</th>\n",
       "      <th>등록일자</th>\n",
       "    </tr>\n",
       "  </thead>\n",
       "  <tbody>\n",
       "    <tr>\n",
       "      <th>0</th>\n",
       "      <td>20190101</td>\n",
       "      <td>경춘선</td>\n",
       "      <td>1323</td>\n",
       "      <td>가평</td>\n",
       "      <td>1520</td>\n",
       "      <td>1436</td>\n",
       "      <td>20190104</td>\n",
       "    </tr>\n",
       "    <tr>\n",
       "      <th>1</th>\n",
       "      <td>20190101</td>\n",
       "      <td>경춘선</td>\n",
       "      <td>1322</td>\n",
       "      <td>상천</td>\n",
       "      <td>275</td>\n",
       "      <td>114</td>\n",
       "      <td>20190104</td>\n",
       "    </tr>\n",
       "    <tr>\n",
       "      <th>2</th>\n",
       "      <td>20190101</td>\n",
       "      <td>경춘선</td>\n",
       "      <td>1321</td>\n",
       "      <td>청평</td>\n",
       "      <td>1509</td>\n",
       "      <td>1083</td>\n",
       "      <td>20190104</td>\n",
       "    </tr>\n",
       "    <tr>\n",
       "      <th>3</th>\n",
       "      <td>20190101</td>\n",
       "      <td>경춘선</td>\n",
       "      <td>1320</td>\n",
       "      <td>대성리</td>\n",
       "      <td>357</td>\n",
       "      <td>271</td>\n",
       "      <td>20190104</td>\n",
       "    </tr>\n",
       "    <tr>\n",
       "      <th>4</th>\n",
       "      <td>20190101</td>\n",
       "      <td>경춘선</td>\n",
       "      <td>1319</td>\n",
       "      <td>마석</td>\n",
       "      <td>1772</td>\n",
       "      <td>1963</td>\n",
       "      <td>20190104</td>\n",
       "    </tr>\n",
       "    <tr>\n",
       "      <th>...</th>\n",
       "      <td>...</td>\n",
       "      <td>...</td>\n",
       "      <td>...</td>\n",
       "      <td>...</td>\n",
       "      <td>...</td>\n",
       "      <td>...</td>\n",
       "      <td>...</td>\n",
       "    </tr>\n",
       "    <tr>\n",
       "      <th>16538</th>\n",
       "      <td>20190228</td>\n",
       "      <td>우이신설선</td>\n",
       "      <td>4709</td>\n",
       "      <td>북한산보국문</td>\n",
       "      <td>6564</td>\n",
       "      <td>6029</td>\n",
       "      <td>20190303</td>\n",
       "    </tr>\n",
       "    <tr>\n",
       "      <th>16539</th>\n",
       "      <td>20190228</td>\n",
       "      <td>우이신설선</td>\n",
       "      <td>4710</td>\n",
       "      <td>정릉</td>\n",
       "      <td>4821</td>\n",
       "      <td>4348</td>\n",
       "      <td>20190303</td>\n",
       "    </tr>\n",
       "    <tr>\n",
       "      <th>16540</th>\n",
       "      <td>20190228</td>\n",
       "      <td>경춘선</td>\n",
       "      <td>1314</td>\n",
       "      <td>퇴계원</td>\n",
       "      <td>4212</td>\n",
       "      <td>3899</td>\n",
       "      <td>20190303</td>\n",
       "    </tr>\n",
       "    <tr>\n",
       "      <th>16541</th>\n",
       "      <td>20190228</td>\n",
       "      <td>우이신설선</td>\n",
       "      <td>4711</td>\n",
       "      <td>성신여대입구(돈암)</td>\n",
       "      <td>4058</td>\n",
       "      <td>4452</td>\n",
       "      <td>20190303</td>\n",
       "    </tr>\n",
       "    <tr>\n",
       "      <th>16542</th>\n",
       "      <td>20190228</td>\n",
       "      <td>우이신설선</td>\n",
       "      <td>4712</td>\n",
       "      <td>보문</td>\n",
       "      <td>1803</td>\n",
       "      <td>1836</td>\n",
       "      <td>20190303</td>\n",
       "    </tr>\n",
       "  </tbody>\n",
       "</table>\n",
       "<p>34877 rows × 7 columns</p>\n",
       "</div>"
      ],
      "text/plain": [
       "           사용일자    노선명   역ID          역명  승차총승객수  하차총승객수      등록일자\n",
       "0      20190101    경춘선  1323          가평    1520    1436  20190104\n",
       "1      20190101    경춘선  1322          상천     275     114  20190104\n",
       "2      20190101    경춘선  1321          청평    1509    1083  20190104\n",
       "3      20190101    경춘선  1320         대성리     357     271  20190104\n",
       "4      20190101    경춘선  1319          마석    1772    1963  20190104\n",
       "...         ...    ...   ...         ...     ...     ...       ...\n",
       "16538  20190228  우이신설선  4709      북한산보국문    6564    6029  20190303\n",
       "16539  20190228  우이신설선  4710          정릉    4821    4348  20190303\n",
       "16540  20190228    경춘선  1314         퇴계원    4212    3899  20190303\n",
       "16541  20190228  우이신설선  4711  성신여대입구(돈암)    4058    4452  20190303\n",
       "16542  20190228  우이신설선  4712          보문    1803    1836  20190303\n",
       "\n",
       "[34877 rows x 7 columns]"
      ]
     },
     "execution_count": 9,
     "metadata": {},
     "output_type": "execute_result"
    }
   ],
   "source": [
    "#여러개의 파일 불러와서 합치기\n",
    "#데이터 프레인 만들기\n",
    "\n",
    "data = pd.DataFrame()\n",
    "data.head()\n",
    "\n",
    "file1 = 'rawfiles/CARD_SUBWAY_MONTH_201901.csv'\n",
    "file2 = 'rawfiles/CARD_SUBWAY_MONTH_201902.csv'\n",
    "\n",
    "temp = pd.read_csv(file1)\n",
    "data = data.append(temp)\n",
    "data\n",
    "\n",
    "temp = pd.read_csv(file2)\n",
    "data = data.append(temp)\n",
    "data"
   ]
  },
  {
   "cell_type": "markdown",
   "metadata": {},
   "source": [
    "#특정폴더에 있는 파일 모두 불러오기\n",
    "#os 불러오기"
   ]
  },
  {
   "cell_type": "code",
   "execution_count": 10,
   "metadata": {},
   "outputs": [
    {
     "data": {
      "text/plain": [
       "['.ipynb_checkpoints',\n",
       " '1. Subway_Raw_Merge.ipynb',\n",
       " '2. EDA_by_DATE.ipynb',\n",
       " '3. EDA_by_PLACE.ipynb',\n",
       " 'data',\n",
       " 'rawfiles',\n",
       " 'subway.ipynb',\n",
       " 'subway_filemerge.ipynb',\n",
       " 'Untitled.ipynb',\n",
       " 'Untitled1.ipynb']"
      ]
     },
     "execution_count": 10,
     "metadata": {},
     "output_type": "execute_result"
    }
   ],
   "source": [
    "#현재 주피터 노트북 기준으로 어떤 파일이 있는지 확인해준다.\n",
    "os.listdir()"
   ]
  },
  {
   "cell_type": "code",
   "execution_count": 11,
   "metadata": {},
   "outputs": [
    {
     "data": {
      "text/plain": [
       "'rawfiles/'"
      ]
     },
     "execution_count": 11,
     "metadata": {},
     "output_type": "execute_result"
    }
   ],
   "source": [
    "dirpath = 'rawfiles/'\n",
    "dirpath"
   ]
  },
  {
   "cell_type": "code",
   "execution_count": 12,
   "metadata": {},
   "outputs": [
    {
     "data": {
      "text/plain": [
       "'C:\\\\Users\\\\user\\\\Documents\\\\nano-python\\\\data\\\\nano online course\\\\PJT2)Subway_Analysis'"
      ]
     },
     "execution_count": 12,
     "metadata": {},
     "output_type": "execute_result"
    }
   ],
   "source": [
    "os.getcwd()"
   ]
  },
  {
   "cell_type": "code",
   "execution_count": 13,
   "metadata": {},
   "outputs": [
    {
     "data": {
      "text/plain": [
       "['CARD_SUBWAY_MONTH_201901.csv',\n",
       " 'CARD_SUBWAY_MONTH_201902.csv',\n",
       " 'CARD_SUBWAY_MONTH_201903.csv',\n",
       " 'CARD_SUBWAY_MONTH_201904.csv',\n",
       " 'CARD_SUBWAY_MONTH_201905.csv',\n",
       " 'CARD_SUBWAY_MONTH_201906.csv']"
      ]
     },
     "execution_count": 13,
     "metadata": {},
     "output_type": "execute_result"
    }
   ],
   "source": [
    "#파일이 들어있는 경로를 files로 저장한다.\n",
    "\n",
    "\n",
    "files = os.listdir('rawfiles/')\n",
    "files"
   ]
  },
  {
   "cell_type": "code",
   "execution_count": 14,
   "metadata": {},
   "outputs": [
    {
     "data": {
      "text/plain": [
       "'rawfiles/'"
      ]
     },
     "execution_count": 14,
     "metadata": {},
     "output_type": "execute_result"
    }
   ],
   "source": [
    "dirpath = 'rawfiles/'\n",
    "dirpath"
   ]
  },
  {
   "cell_type": "code",
   "execution_count": 15,
   "metadata": {},
   "outputs": [
    {
     "data": {
      "text/html": [
       "<div>\n",
       "<style scoped>\n",
       "    .dataframe tbody tr th:only-of-type {\n",
       "        vertical-align: middle;\n",
       "    }\n",
       "\n",
       "    .dataframe tbody tr th {\n",
       "        vertical-align: top;\n",
       "    }\n",
       "\n",
       "    .dataframe thead th {\n",
       "        text-align: right;\n",
       "    }\n",
       "</style>\n",
       "<table border=\"1\" class=\"dataframe\">\n",
       "  <thead>\n",
       "    <tr style=\"text-align: right;\">\n",
       "      <th></th>\n",
       "      <th>사용일자</th>\n",
       "      <th>노선명</th>\n",
       "      <th>역ID</th>\n",
       "      <th>역명</th>\n",
       "      <th>승차총승객수</th>\n",
       "      <th>하차총승객수</th>\n",
       "      <th>등록일자</th>\n",
       "    </tr>\n",
       "  </thead>\n",
       "  <tbody>\n",
       "    <tr>\n",
       "      <th>0</th>\n",
       "      <td>20190101</td>\n",
       "      <td>경춘선</td>\n",
       "      <td>1323</td>\n",
       "      <td>가평</td>\n",
       "      <td>1520</td>\n",
       "      <td>1436</td>\n",
       "      <td>20190104</td>\n",
       "    </tr>\n",
       "    <tr>\n",
       "      <th>1</th>\n",
       "      <td>20190101</td>\n",
       "      <td>경춘선</td>\n",
       "      <td>1322</td>\n",
       "      <td>상천</td>\n",
       "      <td>275</td>\n",
       "      <td>114</td>\n",
       "      <td>20190104</td>\n",
       "    </tr>\n",
       "    <tr>\n",
       "      <th>2</th>\n",
       "      <td>20190101</td>\n",
       "      <td>경춘선</td>\n",
       "      <td>1321</td>\n",
       "      <td>청평</td>\n",
       "      <td>1509</td>\n",
       "      <td>1083</td>\n",
       "      <td>20190104</td>\n",
       "    </tr>\n",
       "    <tr>\n",
       "      <th>3</th>\n",
       "      <td>20190101</td>\n",
       "      <td>경춘선</td>\n",
       "      <td>1320</td>\n",
       "      <td>대성리</td>\n",
       "      <td>357</td>\n",
       "      <td>271</td>\n",
       "      <td>20190104</td>\n",
       "    </tr>\n",
       "    <tr>\n",
       "      <th>4</th>\n",
       "      <td>20190101</td>\n",
       "      <td>경춘선</td>\n",
       "      <td>1319</td>\n",
       "      <td>마석</td>\n",
       "      <td>1772</td>\n",
       "      <td>1963</td>\n",
       "      <td>20190104</td>\n",
       "    </tr>\n",
       "    <tr>\n",
       "      <th>...</th>\n",
       "      <td>...</td>\n",
       "      <td>...</td>\n",
       "      <td>...</td>\n",
       "      <td>...</td>\n",
       "      <td>...</td>\n",
       "      <td>...</td>\n",
       "      <td>...</td>\n",
       "    </tr>\n",
       "    <tr>\n",
       "      <th>17719</th>\n",
       "      <td>20190630</td>\n",
       "      <td>2호선</td>\n",
       "      <td>204</td>\n",
       "      <td>을지로4가</td>\n",
       "      <td>4940</td>\n",
       "      <td>4668</td>\n",
       "      <td>20190703</td>\n",
       "    </tr>\n",
       "    <tr>\n",
       "      <th>17720</th>\n",
       "      <td>20190630</td>\n",
       "      <td>2호선</td>\n",
       "      <td>203</td>\n",
       "      <td>을지로3가</td>\n",
       "      <td>12043</td>\n",
       "      <td>11854</td>\n",
       "      <td>20190703</td>\n",
       "    </tr>\n",
       "    <tr>\n",
       "      <th>17721</th>\n",
       "      <td>20190630</td>\n",
       "      <td>2호선</td>\n",
       "      <td>202</td>\n",
       "      <td>을지로입구</td>\n",
       "      <td>31622</td>\n",
       "      <td>29723</td>\n",
       "      <td>20190703</td>\n",
       "    </tr>\n",
       "    <tr>\n",
       "      <th>17722</th>\n",
       "      <td>20190630</td>\n",
       "      <td>2호선</td>\n",
       "      <td>201</td>\n",
       "      <td>시청</td>\n",
       "      <td>10178</td>\n",
       "      <td>8214</td>\n",
       "      <td>20190703</td>\n",
       "    </tr>\n",
       "    <tr>\n",
       "      <th>17723</th>\n",
       "      <td>20190630</td>\n",
       "      <td>1호선</td>\n",
       "      <td>159</td>\n",
       "      <td>동묘앞</td>\n",
       "      <td>13859</td>\n",
       "      <td>14352</td>\n",
       "      <td>20190703</td>\n",
       "    </tr>\n",
       "  </tbody>\n",
       "</table>\n",
       "<p>99342 rows × 7 columns</p>\n",
       "</div>"
      ],
      "text/plain": [
       "           사용일자  노선명   역ID     역명  승차총승객수  하차총승객수      등록일자\n",
       "0      20190101  경춘선  1323     가평    1520    1436  20190104\n",
       "1      20190101  경춘선  1322     상천     275     114  20190104\n",
       "2      20190101  경춘선  1321     청평    1509    1083  20190104\n",
       "3      20190101  경춘선  1320    대성리     357     271  20190104\n",
       "4      20190101  경춘선  1319     마석    1772    1963  20190104\n",
       "...         ...  ...   ...    ...     ...     ...       ...\n",
       "17719  20190630  2호선   204  을지로4가    4940    4668  20190703\n",
       "17720  20190630  2호선   203  을지로3가   12043   11854  20190703\n",
       "17721  20190630  2호선   202  을지로입구   31622   29723  20190703\n",
       "17722  20190630  2호선   201     시청   10178    8214  20190703\n",
       "17723  20190630  1호선   159    동묘앞   13859   14352  20190703\n",
       "\n",
       "[99342 rows x 7 columns]"
      ]
     },
     "execution_count": 15,
     "metadata": {},
     "output_type": "execute_result"
    }
   ],
   "source": [
    "#파일 병합하는 순서\n",
    "#비어있는 데이터 프레임 생성\n",
    "#반복문을 통해 csv 파일을 읽고 데이터프레임에 넣어준다.\n",
    "\n",
    "# raw = pd.DataFrame()\n",
    "\n",
    "# for file in files :\n",
    "#     print(dirpath+file)\n",
    "#     temp = pd.read_csv(dirpath + file)\n",
    "\n",
    "data =pd.DataFrame()\n",
    "data\n",
    "    \n",
    "for file in files : \n",
    "    temp = pd.read_csv(dirpath+file)\n",
    "    data = data.append(temp)\n",
    "data"
   ]
  },
  {
   "cell_type": "code",
   "execution_count": 16,
   "metadata": {},
   "outputs": [
    {
     "data": {
      "text/html": [
       "<div>\n",
       "<style scoped>\n",
       "    .dataframe tbody tr th:only-of-type {\n",
       "        vertical-align: middle;\n",
       "    }\n",
       "\n",
       "    .dataframe tbody tr th {\n",
       "        vertical-align: top;\n",
       "    }\n",
       "\n",
       "    .dataframe thead th {\n",
       "        text-align: right;\n",
       "    }\n",
       "</style>\n",
       "<table border=\"1\" class=\"dataframe\">\n",
       "  <thead>\n",
       "    <tr style=\"text-align: right;\">\n",
       "      <th></th>\n",
       "      <th>사용일자</th>\n",
       "      <th>노선명</th>\n",
       "      <th>역ID</th>\n",
       "      <th>역명</th>\n",
       "      <th>승차총승객수</th>\n",
       "      <th>하차총승객수</th>\n",
       "      <th>등록일자</th>\n",
       "    </tr>\n",
       "  </thead>\n",
       "  <tbody>\n",
       "    <tr>\n",
       "      <th>99337</th>\n",
       "      <td>20190630</td>\n",
       "      <td>2호선</td>\n",
       "      <td>204</td>\n",
       "      <td>을지로4가</td>\n",
       "      <td>4940</td>\n",
       "      <td>4668</td>\n",
       "      <td>20190703</td>\n",
       "    </tr>\n",
       "    <tr>\n",
       "      <th>99338</th>\n",
       "      <td>20190630</td>\n",
       "      <td>2호선</td>\n",
       "      <td>203</td>\n",
       "      <td>을지로3가</td>\n",
       "      <td>12043</td>\n",
       "      <td>11854</td>\n",
       "      <td>20190703</td>\n",
       "    </tr>\n",
       "    <tr>\n",
       "      <th>99339</th>\n",
       "      <td>20190630</td>\n",
       "      <td>2호선</td>\n",
       "      <td>202</td>\n",
       "      <td>을지로입구</td>\n",
       "      <td>31622</td>\n",
       "      <td>29723</td>\n",
       "      <td>20190703</td>\n",
       "    </tr>\n",
       "    <tr>\n",
       "      <th>99340</th>\n",
       "      <td>20190630</td>\n",
       "      <td>2호선</td>\n",
       "      <td>201</td>\n",
       "      <td>시청</td>\n",
       "      <td>10178</td>\n",
       "      <td>8214</td>\n",
       "      <td>20190703</td>\n",
       "    </tr>\n",
       "    <tr>\n",
       "      <th>99341</th>\n",
       "      <td>20190630</td>\n",
       "      <td>1호선</td>\n",
       "      <td>159</td>\n",
       "      <td>동묘앞</td>\n",
       "      <td>13859</td>\n",
       "      <td>14352</td>\n",
       "      <td>20190703</td>\n",
       "    </tr>\n",
       "  </tbody>\n",
       "</table>\n",
       "</div>"
      ],
      "text/plain": [
       "           사용일자  노선명  역ID     역명  승차총승객수  하차총승객수      등록일자\n",
       "99337  20190630  2호선  204  을지로4가    4940    4668  20190703\n",
       "99338  20190630  2호선  203  을지로3가   12043   11854  20190703\n",
       "99339  20190630  2호선  202  을지로입구   31622   29723  20190703\n",
       "99340  20190630  2호선  201     시청   10178    8214  20190703\n",
       "99341  20190630  1호선  159    동묘앞   13859   14352  20190703"
      ]
     },
     "execution_count": 16,
     "metadata": {},
     "output_type": "execute_result"
    }
   ],
   "source": [
    "data =data.reset_index(drop=True)\n",
    "data.tail()"
   ]
  },
  {
   "cell_type": "markdown",
   "metadata": {},
   "source": [
    "# 요일을 추가할 수 있을까?"
   ]
  },
  {
   "cell_type": "code",
   "execution_count": 18,
   "metadata": {},
   "outputs": [],
   "source": [
    "from datetime import datetime"
   ]
  },
  {
   "cell_type": "code",
   "execution_count": 21,
   "metadata": {},
   "outputs": [
    {
     "data": {
      "text/plain": [
       "datetime.datetime(2019, 1, 5, 0, 0)"
      ]
     },
     "execution_count": 21,
     "metadata": {},
     "output_type": "execute_result"
    }
   ],
   "source": [
    "#일시를 관리하는 datatime 라이브러리를 불러온다.\n",
    "#strptime 함수 사용 (문자를 날짜 타입으로 변경해줌)\n",
    "\n",
    "# datetime.strptime('날짜str', str 형태)\n",
    "s = '2019-01-05'\n",
    "datetime.strptime(s, '%Y-%m-%d')"
   ]
  },
  {
   "cell_type": "code",
   "execution_count": 22,
   "metadata": {},
   "outputs": [],
   "source": [
    "a= \"20190630\"\n",
    "date =datetime.strptime(a,'%Y%m%d')"
   ]
  },
  {
   "cell_type": "code",
   "execution_count": 23,
   "metadata": {},
   "outputs": [
    {
     "data": {
      "text/plain": [
       "6"
      ]
     },
     "execution_count": 23,
     "metadata": {},
     "output_type": "execute_result"
    }
   ],
   "source": [
    "date.weekday()"
   ]
  },
  {
   "cell_type": "code",
   "execution_count": 46,
   "metadata": {},
   "outputs": [],
   "source": [
    "# weekday_dict = []  #리스트 형태를 만든다.\n",
    "# 리스트 안에 월~일을 넣어준다. 이걸로 weekday 함수에서 나온 값을 찾아주면 된다. 예) 6 -> 일요일\n",
    "\n",
    "weekday_dick = ['월','화','수','목','금','토','일'] \n",
    "weekday_list = []\n",
    "\n",
    "for date in data['사용일자'] : \n",
    "    date_str = datetime.strptime(str(date),'%Y%m%d')\n",
    "    date_index = date_str.weekday()\n",
    "    date = weekday_dick[date_index]\n",
    "    weekday_list.append(date)"
   ]
  },
  {
   "cell_type": "code",
   "execution_count": 35,
   "metadata": {},
   "outputs": [
    {
     "data": {
      "text/html": [
       "<div>\n",
       "<style scoped>\n",
       "    .dataframe tbody tr th:only-of-type {\n",
       "        vertical-align: middle;\n",
       "    }\n",
       "\n",
       "    .dataframe tbody tr th {\n",
       "        vertical-align: top;\n",
       "    }\n",
       "\n",
       "    .dataframe thead th {\n",
       "        text-align: right;\n",
       "    }\n",
       "</style>\n",
       "<table border=\"1\" class=\"dataframe\">\n",
       "  <thead>\n",
       "    <tr style=\"text-align: right;\">\n",
       "      <th></th>\n",
       "      <th>사용일자</th>\n",
       "      <th>노선명</th>\n",
       "      <th>역ID</th>\n",
       "      <th>역명</th>\n",
       "      <th>승차총승객수</th>\n",
       "      <th>하차총승객수</th>\n",
       "      <th>등록일자</th>\n",
       "      <th>요일</th>\n",
       "    </tr>\n",
       "  </thead>\n",
       "  <tbody>\n",
       "    <tr>\n",
       "      <th>0</th>\n",
       "      <td>20190101</td>\n",
       "      <td>경춘선</td>\n",
       "      <td>1323</td>\n",
       "      <td>가평</td>\n",
       "      <td>1520</td>\n",
       "      <td>1436</td>\n",
       "      <td>20190104</td>\n",
       "      <td>화</td>\n",
       "    </tr>\n",
       "    <tr>\n",
       "      <th>1</th>\n",
       "      <td>20190101</td>\n",
       "      <td>경춘선</td>\n",
       "      <td>1322</td>\n",
       "      <td>상천</td>\n",
       "      <td>275</td>\n",
       "      <td>114</td>\n",
       "      <td>20190104</td>\n",
       "      <td>화</td>\n",
       "    </tr>\n",
       "    <tr>\n",
       "      <th>2</th>\n",
       "      <td>20190101</td>\n",
       "      <td>경춘선</td>\n",
       "      <td>1321</td>\n",
       "      <td>청평</td>\n",
       "      <td>1509</td>\n",
       "      <td>1083</td>\n",
       "      <td>20190104</td>\n",
       "      <td>화</td>\n",
       "    </tr>\n",
       "    <tr>\n",
       "      <th>3</th>\n",
       "      <td>20190101</td>\n",
       "      <td>경춘선</td>\n",
       "      <td>1320</td>\n",
       "      <td>대성리</td>\n",
       "      <td>357</td>\n",
       "      <td>271</td>\n",
       "      <td>20190104</td>\n",
       "      <td>화</td>\n",
       "    </tr>\n",
       "    <tr>\n",
       "      <th>4</th>\n",
       "      <td>20190101</td>\n",
       "      <td>경춘선</td>\n",
       "      <td>1319</td>\n",
       "      <td>마석</td>\n",
       "      <td>1772</td>\n",
       "      <td>1963</td>\n",
       "      <td>20190104</td>\n",
       "      <td>화</td>\n",
       "    </tr>\n",
       "  </tbody>\n",
       "</table>\n",
       "</div>"
      ],
      "text/plain": [
       "       사용일자  노선명   역ID   역명  승차총승객수  하차총승객수      등록일자 요일\n",
       "0  20190101  경춘선  1323   가평    1520    1436  20190104  화\n",
       "1  20190101  경춘선  1322   상천     275     114  20190104  화\n",
       "2  20190101  경춘선  1321   청평    1509    1083  20190104  화\n",
       "3  20190101  경춘선  1320  대성리     357     271  20190104  화\n",
       "4  20190101  경춘선  1319   마석    1772    1963  20190104  화"
      ]
     },
     "execution_count": 35,
     "metadata": {},
     "output_type": "execute_result"
    }
   ],
   "source": [
    "#요일정보가 추가된 리스트를 컬럼에 추가한다.\n",
    "\n",
    "data['요일'] = weekday_list\n",
    "data.head()"
   ]
  },
  {
   "cell_type": "code",
   "execution_count": 54,
   "metadata": {},
   "outputs": [
    {
     "data": {
      "text/html": [
       "<div>\n",
       "<style scoped>\n",
       "    .dataframe tbody tr th:only-of-type {\n",
       "        vertical-align: middle;\n",
       "    }\n",
       "\n",
       "    .dataframe tbody tr th {\n",
       "        vertical-align: top;\n",
       "    }\n",
       "\n",
       "    .dataframe thead th {\n",
       "        text-align: right;\n",
       "    }\n",
       "</style>\n",
       "<table border=\"1\" class=\"dataframe\">\n",
       "  <thead>\n",
       "    <tr style=\"text-align: right;\">\n",
       "      <th></th>\n",
       "      <th>사용일자</th>\n",
       "      <th>노선명</th>\n",
       "      <th>역ID</th>\n",
       "      <th>역명</th>\n",
       "      <th>승차총승객수</th>\n",
       "      <th>하차총승객수</th>\n",
       "      <th>등록일자</th>\n",
       "      <th>요일</th>\n",
       "    </tr>\n",
       "  </thead>\n",
       "  <tbody>\n",
       "    <tr>\n",
       "      <th>30194</th>\n",
       "      <td>20190221</td>\n",
       "      <td>2호선</td>\n",
       "      <td>221</td>\n",
       "      <td>역삼</td>\n",
       "      <td>62363</td>\n",
       "      <td>69764</td>\n",
       "      <td>20190224</td>\n",
       "      <td>목</td>\n",
       "    </tr>\n",
       "    <tr>\n",
       "      <th>10873</th>\n",
       "      <td>20190119</td>\n",
       "      <td>7호선</td>\n",
       "      <td>2736</td>\n",
       "      <td>고속터미널</td>\n",
       "      <td>23108</td>\n",
       "      <td>18001</td>\n",
       "      <td>20190122</td>\n",
       "      <td>토</td>\n",
       "    </tr>\n",
       "    <tr>\n",
       "      <th>18621</th>\n",
       "      <td>20190201</td>\n",
       "      <td>7호선</td>\n",
       "      <td>2761</td>\n",
       "      <td>부평구청</td>\n",
       "      <td>13353</td>\n",
       "      <td>10594</td>\n",
       "      <td>20190204</td>\n",
       "      <td>금</td>\n",
       "    </tr>\n",
       "    <tr>\n",
       "      <th>35879</th>\n",
       "      <td>20190302</td>\n",
       "      <td>6호선</td>\n",
       "      <td>2622</td>\n",
       "      <td>망원</td>\n",
       "      <td>12544</td>\n",
       "      <td>13482</td>\n",
       "      <td>20190305</td>\n",
       "      <td>토</td>\n",
       "    </tr>\n",
       "    <tr>\n",
       "      <th>85460</th>\n",
       "      <td>20190607</td>\n",
       "      <td>9호선</td>\n",
       "      <td>4118</td>\n",
       "      <td>노들</td>\n",
       "      <td>4665</td>\n",
       "      <td>3890</td>\n",
       "      <td>20190610</td>\n",
       "      <td>금</td>\n",
       "    </tr>\n",
       "  </tbody>\n",
       "</table>\n",
       "</div>"
      ],
      "text/plain": [
       "           사용일자  노선명   역ID     역명  승차총승객수  하차총승객수      등록일자 요일\n",
       "30194  20190221  2호선   221     역삼   62363   69764  20190224  목\n",
       "10873  20190119  7호선  2736  고속터미널   23108   18001  20190122  토\n",
       "18621  20190201  7호선  2761   부평구청   13353   10594  20190204  금\n",
       "35879  20190302  6호선  2622     망원   12544   13482  20190305  토\n",
       "85460  20190607  9호선  4118     노들    4665    3890  20190610  금"
      ]
     },
     "execution_count": 54,
     "metadata": {},
     "output_type": "execute_result"
    }
   ],
   "source": [
    "data.sample(5)"
   ]
  },
  {
   "cell_type": "code",
   "execution_count": 55,
   "metadata": {},
   "outputs": [
    {
     "data": {
      "text/plain": [
       "Index(['사용일자', '노선명', '역ID', '역명', '승차총승객수', '하차총승객수', '등록일자', '요일'], dtype='object')"
      ]
     },
     "execution_count": 55,
     "metadata": {},
     "output_type": "execute_result"
    }
   ],
   "source": [
    "data.columns"
   ]
  },
  {
   "cell_type": "code",
   "execution_count": 68,
   "metadata": {},
   "outputs": [],
   "source": [
    "#요일 컬럼을 사용일자 옆으로 옮기기\n",
    "\n",
    "cond = ['사용일자','요일', '노선명', '역ID', '역명', '승차총승객수', '하차총승객수', '등록일자']\n",
    "data =data[cond]"
   ]
  },
  {
   "cell_type": "code",
   "execution_count": 69,
   "metadata": {},
   "outputs": [],
   "source": [
    "data.to_excel('./subway_raw.xlsx', index = False)"
   ]
  },
  {
   "cell_type": "code",
   "execution_count": 70,
   "metadata": {},
   "outputs": [
    {
     "data": {
      "text/html": [
       "<div>\n",
       "<style scoped>\n",
       "    .dataframe tbody tr th:only-of-type {\n",
       "        vertical-align: middle;\n",
       "    }\n",
       "\n",
       "    .dataframe tbody tr th {\n",
       "        vertical-align: top;\n",
       "    }\n",
       "\n",
       "    .dataframe thead th {\n",
       "        text-align: right;\n",
       "    }\n",
       "</style>\n",
       "<table border=\"1\" class=\"dataframe\">\n",
       "  <thead>\n",
       "    <tr style=\"text-align: right;\">\n",
       "      <th></th>\n",
       "      <th>사용일자</th>\n",
       "      <th>요일</th>\n",
       "      <th>노선명</th>\n",
       "      <th>역ID</th>\n",
       "      <th>역명</th>\n",
       "      <th>승차총승객수</th>\n",
       "      <th>하차총승객수</th>\n",
       "      <th>등록일자</th>\n",
       "    </tr>\n",
       "  </thead>\n",
       "  <tbody>\n",
       "    <tr>\n",
       "      <th>0</th>\n",
       "      <td>20190101</td>\n",
       "      <td>화</td>\n",
       "      <td>경춘선</td>\n",
       "      <td>1323</td>\n",
       "      <td>가평</td>\n",
       "      <td>1520</td>\n",
       "      <td>1436</td>\n",
       "      <td>20190104</td>\n",
       "    </tr>\n",
       "    <tr>\n",
       "      <th>1</th>\n",
       "      <td>20190101</td>\n",
       "      <td>화</td>\n",
       "      <td>경춘선</td>\n",
       "      <td>1322</td>\n",
       "      <td>상천</td>\n",
       "      <td>275</td>\n",
       "      <td>114</td>\n",
       "      <td>20190104</td>\n",
       "    </tr>\n",
       "    <tr>\n",
       "      <th>2</th>\n",
       "      <td>20190101</td>\n",
       "      <td>화</td>\n",
       "      <td>경춘선</td>\n",
       "      <td>1321</td>\n",
       "      <td>청평</td>\n",
       "      <td>1509</td>\n",
       "      <td>1083</td>\n",
       "      <td>20190104</td>\n",
       "    </tr>\n",
       "    <tr>\n",
       "      <th>3</th>\n",
       "      <td>20190101</td>\n",
       "      <td>화</td>\n",
       "      <td>경춘선</td>\n",
       "      <td>1320</td>\n",
       "      <td>대성리</td>\n",
       "      <td>357</td>\n",
       "      <td>271</td>\n",
       "      <td>20190104</td>\n",
       "    </tr>\n",
       "    <tr>\n",
       "      <th>4</th>\n",
       "      <td>20190101</td>\n",
       "      <td>화</td>\n",
       "      <td>경춘선</td>\n",
       "      <td>1319</td>\n",
       "      <td>마석</td>\n",
       "      <td>1772</td>\n",
       "      <td>1963</td>\n",
       "      <td>20190104</td>\n",
       "    </tr>\n",
       "    <tr>\n",
       "      <th>...</th>\n",
       "      <td>...</td>\n",
       "      <td>...</td>\n",
       "      <td>...</td>\n",
       "      <td>...</td>\n",
       "      <td>...</td>\n",
       "      <td>...</td>\n",
       "      <td>...</td>\n",
       "      <td>...</td>\n",
       "    </tr>\n",
       "    <tr>\n",
       "      <th>99337</th>\n",
       "      <td>20190630</td>\n",
       "      <td>일</td>\n",
       "      <td>2호선</td>\n",
       "      <td>204</td>\n",
       "      <td>을지로4가</td>\n",
       "      <td>4940</td>\n",
       "      <td>4668</td>\n",
       "      <td>20190703</td>\n",
       "    </tr>\n",
       "    <tr>\n",
       "      <th>99338</th>\n",
       "      <td>20190630</td>\n",
       "      <td>일</td>\n",
       "      <td>2호선</td>\n",
       "      <td>203</td>\n",
       "      <td>을지로3가</td>\n",
       "      <td>12043</td>\n",
       "      <td>11854</td>\n",
       "      <td>20190703</td>\n",
       "    </tr>\n",
       "    <tr>\n",
       "      <th>99339</th>\n",
       "      <td>20190630</td>\n",
       "      <td>일</td>\n",
       "      <td>2호선</td>\n",
       "      <td>202</td>\n",
       "      <td>을지로입구</td>\n",
       "      <td>31622</td>\n",
       "      <td>29723</td>\n",
       "      <td>20190703</td>\n",
       "    </tr>\n",
       "    <tr>\n",
       "      <th>99340</th>\n",
       "      <td>20190630</td>\n",
       "      <td>일</td>\n",
       "      <td>2호선</td>\n",
       "      <td>201</td>\n",
       "      <td>시청</td>\n",
       "      <td>10178</td>\n",
       "      <td>8214</td>\n",
       "      <td>20190703</td>\n",
       "    </tr>\n",
       "    <tr>\n",
       "      <th>99341</th>\n",
       "      <td>20190630</td>\n",
       "      <td>일</td>\n",
       "      <td>1호선</td>\n",
       "      <td>159</td>\n",
       "      <td>동묘앞</td>\n",
       "      <td>13859</td>\n",
       "      <td>14352</td>\n",
       "      <td>20190703</td>\n",
       "    </tr>\n",
       "  </tbody>\n",
       "</table>\n",
       "<p>99342 rows × 8 columns</p>\n",
       "</div>"
      ],
      "text/plain": [
       "           사용일자 요일  노선명   역ID     역명  승차총승객수  하차총승객수      등록일자\n",
       "0      20190101  화  경춘선  1323     가평    1520    1436  20190104\n",
       "1      20190101  화  경춘선  1322     상천     275     114  20190104\n",
       "2      20190101  화  경춘선  1321     청평    1509    1083  20190104\n",
       "3      20190101  화  경춘선  1320    대성리     357     271  20190104\n",
       "4      20190101  화  경춘선  1319     마석    1772    1963  20190104\n",
       "...         ... ..  ...   ...    ...     ...     ...       ...\n",
       "99337  20190630  일  2호선   204  을지로4가    4940    4668  20190703\n",
       "99338  20190630  일  2호선   203  을지로3가   12043   11854  20190703\n",
       "99339  20190630  일  2호선   202  을지로입구   31622   29723  20190703\n",
       "99340  20190630  일  2호선   201     시청   10178    8214  20190703\n",
       "99341  20190630  일  1호선   159    동묘앞   13859   14352  20190703\n",
       "\n",
       "[99342 rows x 8 columns]"
      ]
     },
     "execution_count": 70,
     "metadata": {},
     "output_type": "execute_result"
    }
   ],
   "source": [
    "pd.read_excel('./subway_raw.xlsx')"
   ]
  }
 ],
 "metadata": {
  "kernelspec": {
   "display_name": "Python 3",
   "language": "python",
   "name": "python3"
  },
  "language_info": {
   "codemirror_mode": {
    "name": "ipython",
    "version": 3
   },
   "file_extension": ".py",
   "mimetype": "text/x-python",
   "name": "python",
   "nbconvert_exporter": "python",
   "pygments_lexer": "ipython3",
   "version": "3.8.5"
  },
  "toc": {
   "base_numbering": 1,
   "nav_menu": {},
   "number_sections": true,
   "sideBar": true,
   "skip_h1_title": false,
   "title_cell": "Table of Contents",
   "title_sidebar": "Contents",
   "toc_cell": false,
   "toc_position": {},
   "toc_section_display": true,
   "toc_window_display": false
  }
 },
 "nbformat": 4,
 "nbformat_minor": 4
}
